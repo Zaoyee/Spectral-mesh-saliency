{
 "cells": [
  {
   "cell_type": "code",
   "execution_count": 14,
   "metadata": {},
   "outputs": [],
   "source": [
    "import numpy as np\n",
    "import networkx as nx\n",
    "from scipy import linalg as LA\n",
    "from scipy import sparse\n",
    "import matplotlib.pyplot as plt\n",
    "from sklearn.neighbors import KDTree"
   ]
  },
  {
   "cell_type": "code",
   "execution_count": 257,
   "metadata": {},
   "outputs": [],
   "source": [
    "def read_off(file):\n",
    "    if 'OFF' != file.readline().strip():\n",
    "        raise('Not a valid OFF header')\n",
    "    n_verts, n_faces, n_dontknow = tuple([int(s) for s in file.readline().strip().split(' ')])\n",
    "    verts = [[float(s) for s in file.readline().strip().split(' ')] for i_vert in range(n_verts)]\n",
    "    faces = [[int(s) for s in file.readline().strip().split(' ')][1:] for i_face in range(n_faces)]\n",
    "    verts = np.array(verts)\n",
    "    faces = np.array(faces)\n",
    "    return verts, faces"
   ]
  },
  {
   "cell_type": "code",
   "execution_count": 79,
   "metadata": {},
   "outputs": [],
   "source": [
    "def write_off(filename, vertex, face):\n",
    "    with open(filename, 'a') as f:\n",
    "        f.write('OFF\\n');\n",
    "        f.write('%d %d 0\\n'%(vertex.shape[0], face.shape[0]))\n",
    "        np.savetxt(f, vertex, fmt='%f %f %f')\n",
    "        np.savetxt(f, face, fmt='3 %d %d %d')"
   ]
  },
  {
   "cell_type": "code",
   "execution_count": 14,
   "metadata": {},
   "outputs": [],
   "source": [
    "with open('./data/simp.off','r') as f:\n",
    "    verts, faces = read_off(f)"
   ]
  },
  {
   "cell_type": "code",
   "execution_count": 270,
   "metadata": {},
   "outputs": [],
   "source": [
    "def deg_cal(in_faces):\n",
    "    out_faces = np.concatenate([in_faces[:,:2], in_faces[:,1:3], in_faces[:,[0,2]]], axis=0)\n",
    "    out_faces = np.concatenate([out_faces,out_faces[:,::-1]], axis=0)\n",
    "    out_faces = np.unique(out_faces, axis=0)\n",
    "    _, deg = np.unique(out_faces[:,0], return_counts=True)\n",
    "    return out_faces, deg"
   ]
  },
  {
   "cell_type": "code",
   "execution_count": 13,
   "metadata": {},
   "outputs": [],
   "source": [
    "def simplifiedMapping(simp_vertex, org_vertex):\n",
    "    \"\"\"\n",
    "    This function is able to map the simplified vertex\n",
    "    to the orginal vertex by using k-d tree\n",
    "    \"\"\"\n",
    "    kd_tree = KDTree(simp_vertex)\n",
    "    _, idx = kd_tree.query(org_vertex, k = 1)\n",
    "    return idx"
   ]
  },
  {
   "cell_type": "code",
   "execution_count": 17,
   "metadata": {},
   "outputs": [],
   "source": [
    "graph_edg_idx, deg = deg_cal(faces)\n",
    "deg_mat = np.diag(deg)"
   ]
  },
  {
   "cell_type": "code",
   "execution_count": 20,
   "metadata": {},
   "outputs": [],
   "source": [
    "G = nx.Graph()\n",
    "\n",
    "G.add_edges_from(graph_edg_idx)\n",
    "adj = nx.adjacency_matrix(G, nodelist=range(G.number_of_nodes())).todense().astype(float)"
   ]
  },
  {
   "cell_type": "code",
   "execution_count": 29,
   "metadata": {},
   "outputs": [],
   "source": [
    "rt = adj.copy()"
   ]
  },
  {
   "cell_type": "code",
   "execution_count": 30,
   "metadata": {},
   "outputs": [],
   "source": [
    "adj_idx = np.argwhere(rt==1)"
   ]
  },
  {
   "cell_type": "code",
   "execution_count": 31,
   "metadata": {},
   "outputs": [],
   "source": [
    "for idx in adj_idx:\n",
    "    i, j = idx\n",
    "    normy = (verts[i,:] - verts[j,:]) ** 2\n",
    "    factor = np.sum(normy)\n",
    "    rt[i, j] = 1 / factor"
   ]
  },
  {
   "cell_type": "code",
   "execution_count": 36,
   "metadata": {},
   "outputs": [],
   "source": [
    "Lap_mat = np.diagflat(np.sum(rt ,axis=1)) - rt"
   ]
  },
  {
   "cell_type": "code",
   "execution_count": 39,
   "metadata": {},
   "outputs": [],
   "source": [
    "eign_val, eigen_vec = LA.eigh(Lap_mat)"
   ]
  },
  {
   "cell_type": "code",
   "execution_count": 40,
   "metadata": {},
   "outputs": [
    {
     "data": {
      "text/plain": [
       "[<matplotlib.lines.Line2D at 0xa832d8850>]"
      ]
     },
     "execution_count": 40,
     "metadata": {},
     "output_type": "execute_result"
    },
    {
     "data": {
      "image/png": "[encoded data removed]",
      "text/plain": [
       "<Figure size 432x288 with 1 Axes>"
      ]
     },
     "metadata": {
      "needs_background": "light"
     },
     "output_type": "display_data"
    },
    {
     "data": {
      "image/png": "[encoded data removed]",
      "text/plain": [
       "<Figure size 432x288 with 1 Axes>"
      ]
     },
     "metadata": {
      "needs_background": "light"
     },
     "output_type": "display_data"
    }
   ],
   "source": [
    "plt.plot(eign_val)\n",
    "plt.plot(np.log(np.abs(eign_val)))\n",
    "plt.figure()"
   ]
  },
  {
   "cell_type": "code",
   "execution_count": 41,
   "metadata": {},
   "outputs": [],
   "source": [
    "Log_eigen = np.log(np.abs(eign_val))"
   ]
  },
  {
   "cell_type": "code",
   "execution_count": 42,
   "metadata": {},
   "outputs": [],
   "source": [
    "N = 9\n",
    "def append_eigen(eigen, N):\n",
    "    if (N % 2) == 1:\n",
    "        out_eign = np.concatenate([np.repeat(eigen[0], N/2), eigen, np.repeat(eigen[-1], N/2)])\n",
    "    else:\n",
    "        raise(\"Please input an odd number\")\n",
    "    return out_eign"
   ]
  },
  {
   "cell_type": "code",
   "execution_count": 43,
   "metadata": {},
   "outputs": [],
   "source": [
    "spec_irregu = np.abs(Log_eigen - np.convolve(append_eigen(Log_eigen,N), np.ones((N,))/N, mode='valid'))"
   ]
  },
  {
   "cell_type": "code",
   "execution_count": 44,
   "metadata": {},
   "outputs": [
    {
     "data": {
      "text/plain": [
       "array([1.26817814e+01, 1.18919798e+01, 8.90954199e+00, ...,\n",
       "       1.58419869e-01, 1.18670032e-02, 2.10781120e-01])"
      ]
     },
     "execution_count": 44,
     "metadata": {},
     "output_type": "execute_result"
    }
   ],
   "source": [
    "spec_irregu"
   ]
  },
  {
   "cell_type": "code",
   "execution_count": 58,
   "metadata": {},
   "outputs": [],
   "source": [
    "Saliency_mat = np.multiply(np.dot(np.dot(eigen_vec, np.diagflat(np.exp(spec_irregu))), eigen_vec.T), rt)"
   ]
  },
  {
   "cell_type": "code",
   "execution_count": 60,
   "metadata": {},
   "outputs": [],
   "source": [
    "Saliency_vec = Saliency_mat.sum(axis=1).reshape(-1)"
   ]
  },
  {
   "cell_type": "code",
   "execution_count": 61,
   "metadata": {},
   "outputs": [
    {
     "data": {
      "text/plain": [
       "matrix([[1982393.59962323, 2348299.1754106 , 1306937.1957651 , ...,\n",
       "         1842598.39555642,  587472.77105265,  568428.54934543]])"
      ]
     },
     "execution_count": 61,
     "metadata": {},
     "output_type": "execute_result"
    }
   ],
   "source": [
    "Saliency_vec"
   ]
  },
  {
   "cell_type": "markdown",
   "metadata": {},
   "source": [
    "## Section 3 part code"
   ]
  },
  {
   "cell_type": "code",
   "execution_count": 110,
   "metadata": {},
   "outputs": [],
   "source": [
    "def find_boundBoxDiag(vertx):\n",
    "    \"\"\"\n",
    "    This function will find the boundbox based on the vertx\n",
    "    \"\"\"\n",
    "    max_vec = np.max(vertx, axis=0)\n",
    "    min_vec = np.min(vertx, axis=0)\n",
    "    diff_vec = (max_vec - min_vec) ** 2\n",
    "    return np.sqrt(np.sum(diff_vec))"
   ]
  },
  {
   "cell_type": "code",
   "execution_count": 117,
   "metadata": {},
   "outputs": [],
   "source": [
    "def gaussian_kernel(x, t):\n",
    "    return (1/np.sqrt(2*np.pi*t)) * np.exp(-np.dot(x.T, x) / 2*(t))"
   ]
  },
  {
   "cell_type": "code",
   "execution_count": 191,
   "metadata": {},
   "outputs": [],
   "source": [
    "def aver_inter_distance(vertex):\n",
    "    summ = 0\n",
    "    for i in range(vertex.shape[0]):\n",
    "        for j in range(vertex.shape[0]):\n",
    "            summ += np.sum((vertex[i,:] - vertex[j:])**2)\n",
    "    summ = summ * 2 / (vertex.shape[0]*(vertex.shape[0]-1))\n",
    "    return summ"
   ]
  },
  {
   "cell_type": "code",
   "execution_count": 212,
   "metadata": {},
   "outputs": [],
   "source": [
    "c = np.sqrt(aver_inter_distance(verts))"
   ]
  },
  {
   "cell_type": "code",
   "execution_count": 204,
   "metadata": {},
   "outputs": [],
   "source": [
    "lenDiag_Bound = find_boundBoxDiag(verts)\n",
    "eps = (2e-3**2) * lenDiag_Bound"
   ]
  },
  {
   "cell_type": "code",
   "execution_count": 205,
   "metadata": {},
   "outputs": [],
   "source": [
    "t = [k*eps for k in range(1,6)]"
   ]
  },
  {
   "cell_type": "code",
   "execution_count": 206,
   "metadata": {},
   "outputs": [],
   "source": [
    "z = np.zeros(verts.shape).astype(np.float)\n",
    "for i in range(verts.shape[0]):\n",
    "    z[i,:] = verts[i,:] * gaussian_kernel(verts[i,:], t[0])"
   ]
  },
  {
   "cell_type": "code",
   "execution_count": 207,
   "metadata": {},
   "outputs": [],
   "source": [
    "! rm -f ./tst_gaus.off\n",
    "write_off('./tst_gaus.off', z, faces)"
   ]
  },
  {
   "cell_type": "code",
   "execution_count": 208,
   "metadata": {},
   "outputs": [],
   "source": [
    "kk_vec = np.zeros(verts.shape[0]).astype(np.float)\n",
    "for i in range(verts.shape[0]):\n",
    "    adj_set = np.argwhere(np.array(adj[i,:]).reshape(-1) == 1)\n",
    "    summm = np.sum(np.sqrt(np.sum(((verts[i] - verts[adj_set,:])**2).reshape(-1,3), axis=1)))\n",
    "    kk_vec[i] = (c*deg[i])/summm + 1"
   ]
  },
  {
   "cell_type": "code",
   "execution_count": 209,
   "metadata": {},
   "outputs": [],
   "source": [
    "k_tParam = kk_vec * t[0]"
   ]
  },
  {
   "cell_type": "code",
   "execution_count": 210,
   "metadata": {},
   "outputs": [],
   "source": [
    "z2 = np.zeros(verts.shape).astype(np.float)\n",
    "for i in range(verts.shape[0]):\n",
    "    z2[i,:] = verts[i,:] * gaussian_kernel(verts[i,:], k_tParam[i])"
   ]
  },
  {
   "cell_type": "code",
   "execution_count": 211,
   "metadata": {},
   "outputs": [],
   "source": [
    "! rm -f ./tst_gaus2.off\n",
    "write_off('./tst_gaus2.off', z2, faces)"
   ]
  },
  {
   "cell_type": "code",
   "execution_count": 335,
   "metadata": {},
   "outputs": [],
   "source": [
    "def gaussian_smoothing_dynamic(vertex_info, adj_mat, alpha=1):\n",
    "    new_ver = np.zeros(vertex_info.shape).astype(np.float)\n",
    "    for i in range(vertex_info.shape[0]):\n",
    "        adj_set = np.argwhere(np.array(adj_mat[i,:]).reshape(-1) == 1)\n",
    "        adj_coord = vertex_info[adj_set,:].reshape(-1,3)\n",
    "        ver_i_coord = vertex_info[i,:].reshape(-1,3)\n",
    "        weight_set = np.zeros(adj_set.shape[0]).astype(np.float) \n",
    "        sigma = np.sum(np.sqrt(np.sum((ver_i_coord - adj_coord)**2, axis = 1)))/adj_set.shape[0] * alpha\n",
    "        for j in range(adj_set.shape[0]):\n",
    "            d_temp = np.sum((ver_i_coord - adj_coord[j,:])**2)\n",
    "            weight_set[j] = (1/np.sqrt(2*np.pi*sigma**2)) * np.exp(-d_temp / (2*(sigma**2)))\n",
    "        weight_set = weight_set / np.sum(weight_set)\n",
    "        new_ver[i,:] = np.dot(weight_set.T, adj_coord)\n",
    "    return new_ver"
   ]
  },
  {
   "cell_type": "code",
   "execution_count": 336,
   "metadata": {},
   "outputs": [],
   "source": [
    "def gaussian_smoothing(vertex_info, adj_mat, alpha=1):\n",
    "    new_ver = np.zeros(vertex_info.shape).astype(np.float)\n",
    "    for i in range(vertex_info.shape[0]):\n",
    "        adj_set = np.argwhere(np.array(adj_mat[i,:]).reshape(-1) == 1)\n",
    "        adj_coord = vertex_info[adj_set,:].reshape(-1,3)\n",
    "        ver_i_coord = vertex_info[i,:].reshape(-1,3)\n",
    "        weight_set = np.zeros(adj_set.shape[0]).astype(np.float) \n",
    "        sigma = alpha\n",
    "        for j in range(adj_set.shape[0]):\n",
    "            d_temp = np.sum((ver_i_coord - adj_coord[j,:])**2)\n",
    "            weight_set[j] = (1/np.sqrt(2*np.pi*sigma**2)) * np.exp(-d_temp / (2*(sigma**2)))\n",
    "        weight_set = weight_set / np.sum(weight_set)\n",
    "        new_ver[i,:] = np.dot(weight_set.T, adj_coord)\n",
    "    return new_ver"
   ]
  },
  {
   "cell_type": "code",
   "execution_count": 281,
   "metadata": {},
   "outputs": [],
   "source": [
    "with open('./data/0.off','r') as f:\n",
    "    verts2, faces2 = read_off(f)"
   ]
  },
  {
   "cell_type": "code",
   "execution_count": 282,
   "metadata": {},
   "outputs": [],
   "source": [
    "a, b = deg_cal(faces2)\n",
    "G2 = nx.Graph()\n",
    "G2.add_edges_from(a)\n",
    "adj2 = nx.adjacency_matrix(G2, nodelist=range(G2.number_of_nodes())).todense().astype(float)"
   ]
  },
  {
   "cell_type": "code",
   "execution_count": 333,
   "metadata": {},
   "outputs": [],
   "source": [
    "new_ver = gaussian_smoothing_dynamic(verts, adj)"
   ]
  },
  {
   "cell_type": "code",
   "execution_count": 334,
   "metadata": {},
   "outputs": [],
   "source": [
    "! rm -f ./tst_gaus2.off\n",
    "write_off('./tst_gaus2.off', new_ver, faces)"
   ]
  },
  {
   "cell_type": "code",
   "execution_count": 340,
   "metadata": {},
   "outputs": [],
   "source": [
    "! rm -f ./tst_gaus3.off\n",
    "write_off('./tst_gaus3.off', new_ver, faces)"
   ]
  },
  {
   "cell_type": "code",
   "execution_count": 330,
   "metadata": {},
   "outputs": [
    {
     "data": {
      "text/plain": [
       "array([[ 0.33686052,  0.36625566, -0.02505359],\n",
       "       [-0.2164311 , -0.87552183,  0.05208472],\n",
       "       [ 0.26964398,  0.39290159, -0.02622854],\n",
       "       ...,\n",
       "       [ 0.10950396,  0.62890961,  0.01107857],\n",
       "       [ 0.04183545,  0.14133887, -0.06423714],\n",
       "       [-0.01662701,  0.42546679, -0.10579393]])"
      ]
     },
     "execution_count": 330,
     "metadata": {},
     "output_type": "execute_result"
    }
   ],
   "source": [
    "new_ver"
   ]
  },
  {
   "cell_type": "code",
   "execution_count": 320,
   "metadata": {},
   "outputs": [
    {
     "data": {
      "text/plain": [
       "array([[ 0.33953433,  0.36127089, -0.02488993],\n",
       "       [-0.21612372, -0.8750902 ,  0.05354227],\n",
       "       [ 0.27487488,  0.38869757, -0.02633849],\n",
       "       ...,\n",
       "       [ 0.10794163,  0.62876391,  0.01061858],\n",
       "       [ 0.04671724,  0.14153588, -0.06381883],\n",
       "       [-0.01533605,  0.42062899, -0.10530095]])"
      ]
     },
     "execution_count": 320,
     "metadata": {},
     "output_type": "execute_result"
    }
   ],
   "source": [
    "new_ver"
   ]
  },
  {
   "cell_type": "code",
   "execution_count": 321,
   "metadata": {},
   "outputs": [
    {
     "data": {
      "text/plain": [
       "array([[ 0.33822 ,  0.368726, -0.026221],\n",
       "       [-0.224259, -0.877597,  0.052352],\n",
       "       [ 0.280568,  0.385197, -0.033369],\n",
       "       ...,\n",
       "       [ 0.116834,  0.627539,  0.011516],\n",
       "       [ 0.060451,  0.134235, -0.059194],\n",
       "       [-0.007087,  0.40326 , -0.101193]])"
      ]
     },
     "execution_count": 321,
     "metadata": {},
     "output_type": "execute_result"
    }
   ],
   "source": [
    "verts"
   ]
  },
  {
   "cell_type": "code",
   "execution_count": 337,
   "metadata": {},
   "outputs": [],
   "source": [
    "new_ver_nonDynamic = gaussian_smoothing(verts, adj)"
   ]
  },
  {
   "cell_type": "code",
   "execution_count": 338,
   "metadata": {},
   "outputs": [
    {
     "data": {
      "text/plain": [
       "array([[ 0.3354906 ,  0.36887024, -0.02501799],\n",
       "       [-0.21664297, -0.87567981,  0.05142495],\n",
       "       [ 0.26725075,  0.3948976 , -0.02618578],\n",
       "       ...,\n",
       "       [ 0.1100835 ,  0.62890755,  0.01118543],\n",
       "       [ 0.040122  ,  0.14114567, -0.06437524],\n",
       "       [-0.01702728,  0.42708052, -0.10595591]])"
      ]
     },
     "execution_count": 338,
     "metadata": {},
     "output_type": "execute_result"
    }
   ],
   "source": [
    "new_ver_nonDynamic"
   ]
  },
  {
   "cell_type": "code",
   "execution_count": 341,
   "metadata": {},
   "outputs": [],
   "source": [
    "! rm -f ./tst_gaus4.off\n",
    "write_off('./tst_gaus4.off', new_ver_nonDynamic, faces)"
   ]
  },
  {
   "cell_type": "code",
   "execution_count": 5,
   "metadata": {},
   "outputs": [],
   "source": [
    "rng = np.random.RandomState(0)\n",
    "X = rng.random_sample((10, 3))\n",
    "kd_tree = KDTree(X)"
   ]
  },
  {
   "cell_type": "code",
   "execution_count": 12,
   "metadata": {},
   "outputs": [
    {
     "data": {
      "text/plain": [
       "(array([[ 1.13012854],\n",
       "        [22.11255712]]), array([[2],\n",
       "        [9]]))"
      ]
     },
     "execution_count": 12,
     "metadata": {},
     "output_type": "execute_result"
    }
   ],
   "source": [
    "dist, ind = kd_tree.query(np.array([[0, 1, 2], [23, 2, 1]]).reshape(-1,3), k=1)\n",
    "dist, ind"
   ]
  },
  {
   "cell_type": "code",
   "execution_count": null,
   "metadata": {},
   "outputs": [],
   "source": []
  }
 ],
 "metadata": {
  "kernelspec": {
   "display_name": "Python 3",
   "language": "python",
   "name": "python3"
  },
  "language_info": {
   "codemirror_mode": {
    "name": "ipython",
    "version": 3
   },
   "file_extension": ".py",
   "mimetype": "text/x-python",
   "name": "python",
   "nbconvert_exporter": "python",
   "pygments_lexer": "ipython3",
   "version": "3.7.4"
  }
 },
 "nbformat": 4,
 "nbformat_minor": 4
}
