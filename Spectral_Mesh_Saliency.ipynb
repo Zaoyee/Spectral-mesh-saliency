{
 "cells": [
  {
   "cell_type": "markdown",
   "metadata": {},
   "source": [
    "## Spectral Mesh Saliency\n",
    "\n",
    "The code will try to reproduce the paper `Ran Song et al, Mesh Saliency via Spectral Processing` as much as possible.\n",
    "\n",
    "Partial of the code will not be exactly same as the paper, but does the almost the same function. Such as the *Gaussian smoothing* of the Mesh\n",
    "\n",
    "\n",
    "Also I will skip QSlim mesh simplification operation\n",
    "since the built-in QSlim does not work on Python and Unix really well\n",
    "\n",
    "The mesh $\\mathcal{M}$ has been simplified by QSlim ahead of time and save to `./data/simp.off` file\n",
    "\n",
    "The original $\\mathcal{M}$ has been stored in `./data/0.off` file"
   ]
  },
  {
   "cell_type": "code",
   "execution_count": 2,
   "metadata": {},
   "outputs": [],
   "source": [
    "# Import the libs\n",
    "import numpy as np\n",
    "import networkx as nx\n",
    "from scipy import linalg as LA\n",
    "import matplotlib.pyplot as plt\n",
    "from sklearn.neighbors import KDTree\n",
    "import scipy.io as sio"
   ]
  },
  {
   "cell_type": "code",
   "execution_count": 3,
   "metadata": {},
   "outputs": [],
   "source": [
    "def read_off(file):\n",
    "    \"\"\"\n",
    "    Function reads '.off' file\n",
    "    \"\"\"\n",
    "    if 'OFF' != file.readline().strip():\n",
    "        raise('Not a valid OFF header')\n",
    "    n_verts, n_faces, n_dontknow = tuple([int(s) for s in file.readline().strip().split(' ')])\n",
    "    verts = [[float(s) for s in file.readline().strip().split(' ')] for i_vert in range(n_verts)]\n",
    "    faces = [[int(s) for s in file.readline().strip().split(' ')][1:] for i_face in range(n_faces)]\n",
    "    verts = np.array(verts)\n",
    "    faces = np.array(faces)\n",
    "    return verts, faces"
   ]
  },
  {
   "cell_type": "code",
   "execution_count": 4,
   "metadata": {},
   "outputs": [],
   "source": [
    "def write_off(filename, vertex, face):\n",
    "    \"\"\"\n",
    "    Function write up vertex anf face info to '.off' file\n",
    "    \"\"\"\n",
    "    with open(filename, 'a') as f:\n",
    "        f.write('OFF\\n');\n",
    "        f.write('%d %d 0\\n'%(vertex.shape[0], face.shape[0]))\n",
    "        np.savetxt(f, vertex, fmt='%f %f %f')\n",
    "        np.savetxt(f, face, fmt='3 %d %d %d')"
   ]
  },
  {
   "cell_type": "code",
   "execution_count": 5,
   "metadata": {},
   "outputs": [],
   "source": [
    "def deg_cal(in_faces):\n",
    "    \"\"\"\n",
    "    Based on the input face info, aligned the format to be a graph format\n",
    "    and read out the degree vector\n",
    "    \"\"\"\n",
    "    out_faces = np.concatenate([in_faces[:,:2], in_faces[:,1:3], in_faces[:,[0,2]]], axis=0)\n",
    "    out_faces = np.concatenate([out_faces,out_faces[:,::-1]], axis=0)\n",
    "    out_faces = np.unique(out_faces, axis=0)\n",
    "    _, deg = np.unique(out_faces[:,0], return_counts=True)\n",
    "    return out_faces, deg"
   ]
  },
  {
   "cell_type": "code",
   "execution_count": 6,
   "metadata": {},
   "outputs": [],
   "source": [
    "def simplifiedMapping(simp_vertex, org_vertex):\n",
    "    \"\"\"\n",
    "    This function is able to map the simplified vertex\n",
    "    to the orginal vertex by using k-d tree\n",
    "    k = 1, d = 3\n",
    "    \"\"\"\n",
    "    kd_tree = KDTree(simp_vertex)\n",
    "    _, idx = kd_tree.query(org_vertex, k = 1)\n",
    "    return idx"
   ]
  },
  {
   "cell_type": "code",
   "execution_count": 110,
   "metadata": {},
   "outputs": [],
   "source": [
    "def gaussian_smoothing_dynamic(vertex_info, adj_mat, alpha=1):\n",
    "    \"\"\"\n",
    "    Gaussian mesh smoothing, the sigma value is totally based on the 1-ring neighbors\n",
    "    `alpha` is denoted as `t` in the paper\n",
    "    \"\"\"\n",
    "    new_ver = np.zeros(vertex_info.shape).astype(np.float64)\n",
    "    for i in range(vertex_info.shape[0]):\n",
    "        adj_set = np.argwhere(np.array(adj_mat[i,:]).reshape(-1) == 1)\n",
    "        adj_coord = vertex_info[adj_set,:].reshape(-1,3)\n",
    "        ver_i_coord = vertex_info[i,:].reshape(-1,3)\n",
    "        weight_set = np.zeros(adj_set.shape[0]).astype(np.float) \n",
    "        sigma = np.sum(np.sqrt(np.sum((ver_i_coord - adj_coord)**2, axis = 1)))/adj_set.shape[0] * alpha\n",
    "        for j in range(adj_set.shape[0]):\n",
    "            d_temp = np.sum((ver_i_coord - adj_coord[j,:])**2).astype(np.float64)\n",
    "            weight_set[j] = (1/np.sqrt(2*np.pi*sigma**2)) * np.exp(-d_temp / (2*(sigma**2)))\n",
    "        weight_set = weight_set / np.sum(weight_set)\n",
    "        new_ver[i,:] = np.dot(weight_set.T, adj_coord)\n",
    "    return new_ver"
   ]
  },
  {
   "cell_type": "code",
   "execution_count": 111,
   "metadata": {},
   "outputs": [],
   "source": [
    "def gaussian_smoothing(vertex_info, adj_mat, alpha=1):\n",
    "    \"\"\"\n",
    "    Another version of gaussian mesh smoothing with a constant alpha vlaue as the sigma\n",
    "    \"\"\"\n",
    "    new_ver = np.zeros(vertex_info.shape).astype(np.float64)\n",
    "    for i in range(vertex_info.shape[0]):\n",
    "        adj_set = np.argwhere(np.array(adj_mat[i,:]).reshape(-1) == 1)\n",
    "        adj_coord = vertex_info[adj_set,:].reshape(-1,3)\n",
    "        ver_i_coord = vertex_info[i,:].reshape(-1,3)\n",
    "        weight_set = np.zeros(adj_set.shape[0]).astype(np.float64) \n",
    "        sigma = alpha\n",
    "        for j in range(adj_set.shape[0]):\n",
    "            d_temp = np.sum((ver_i_coord - adj_coord[j,:])**2).astype(np.float64)\n",
    "            weight_set[j] = (1/np.sqrt(2*np.pi*sigma**2)) * np.exp(-d_temp / (2*(sigma**2)))\n",
    "        weight_set = weight_set / np.sum(weight_set)\n",
    "        new_ver[i,:] = np.dot(weight_set.T, adj_coord)\n",
    "    return new_ver"
   ]
  },
  {
   "cell_type": "code",
   "execution_count": 9,
   "metadata": {},
   "outputs": [],
   "source": [
    "def append_eigen(eigen, N):\n",
    "    if (N % 2) == 1:\n",
    "        out_eign = np.concatenate([np.repeat(eigen[0], N/2), eigen, np.repeat(eigen[-1], N/2)])\n",
    "    else:\n",
    "        raise(\"Please input an odd number\")\n",
    "    return out_eign"
   ]
  },
  {
   "cell_type": "code",
   "execution_count": 10,
   "metadata": {},
   "outputs": [],
   "source": [
    "def Measure_adjMat(face):\n",
    "    \"\"\"\n",
    "    Return the adjcency matrix based on the input face\n",
    "    \"\"\"\n",
    "    graph_edg_idx, deg_info = deg_cal(face)\n",
    "    G = nx.Graph()\n",
    "    G.add_edges_from(graph_edg_idx)\n",
    "    adj_mat = nx.adjacency_matrix(G,\n",
    "                                  nodelist=range(G.number_of_nodes())).todense().astype(float)\n",
    "    return adj_mat"
   ]
  },
  {
   "cell_type": "code",
   "execution_count": 22,
   "metadata": {},
   "outputs": [],
   "source": [
    "def RoughMeasure_Saliency(vers, fas):\n",
    "    \"\"\"\n",
    "    Compute the Saliency based on one scale of vertex info\n",
    "    \"\"\"\n",
    "    adj_mat = Measure_adjMat(fas)\n",
    "    adj_cp = adj_mat.copy()\n",
    "    \n",
    "    adj_idx = np.argwhere(adj_mat==1)\n",
    "    for idx in adj_idx:\n",
    "        i, j = idx\n",
    "        normy = (vers[i,:] - verts[j,:]) ** 2\n",
    "        factor = np.sum(normy)\n",
    "        adj_cp[i, j] = 1 / factor\n",
    "    \n",
    "    # Compute the Laplacian matrix\n",
    "    Lap_mat = np.diagflat(np.sum(adj_cp ,axis=1)) - adj_cp\n",
    "    # This step will take  the most of time, compute in O(n^3)\n",
    "    # Python numpy sometimes give totally different eign_vec as MATLAB\n",
    "    eign_val, eigen_vec = LA.eigh(Lap_mat)\n",
    "    Log_eigen = np.log(np.abs(eign_val))\n",
    "    # N is defined by paper\n",
    "    N = 9\n",
    "    spec_irregu = np.abs(Log_eigen -\n",
    "                         np.convolve(append_eigen(Log_eigen,N),\n",
    "                                     np.ones((N,))/N, mode='valid'))\n",
    "    Saliency_mat = np.multiply(np.dot(np.dot(eigen_vec,\n",
    "                                             np.diagflat(np.exp(spec_irregu))),\n",
    "                                      eigen_vec.T), adj_cp)\n",
    "    Saliency_vec = Saliency_mat.sum(axis=1).reshape(-1)\n",
    "    return Saliency_vec"
   ]
  },
  {
   "cell_type": "markdown",
   "metadata": {},
   "source": [
    "### The main function of program"
   ]
  },
  {
   "cell_type": "code",
   "execution_count": 12,
   "metadata": {},
   "outputs": [],
   "source": [
    "# Read the orginal mesh, which includes 15000 vertices\n",
    "with open('./data/0.off','r') as f:\n",
    "    ori_verts, ori_faces = read_off(f)\n",
    "\n",
    "# Read the pre-procesed QSlim simplified mesh, which only includes 1502 vertices, around 5000 faces    \n",
    "with open('./data/simp.off','r') as f:\n",
    "    verts, faces = read_off(f)    "
   ]
  },
  {
   "cell_type": "markdown",
   "metadata": {},
   "source": [
    "##### Get the two lists of Mesh $\\mathcal{\\hat{M}}$ and $k\\mathcal{\\hat{M}}$"
   ]
  },
  {
   "cell_type": "code",
   "execution_count": 130,
   "metadata": {},
   "outputs": [],
   "source": [
    "s = 10\n",
    "dymG_mesh_lst = []\n",
    "nmG_mesh_lst = []\n",
    "adj_matt = Measure_adjMat(faces)\n",
    "nmG_mesh_lst.append(verts)\n",
    "dymG_mesh_lst.append(verts)\n",
    "for ii in range(s-1):\n",
    "    nmG_mesh_lst.append(gaussian_smoothing(verts, adj_matt, alpha=(ii+1)*2))\n",
    "    dymG_mesh_lst.append(gaussian_smoothing_dynamic(verts, adj_matt, alpha=(ii+1)*2))"
   ]
  },
  {
   "cell_type": "code",
   "execution_count": 14,
   "metadata": {},
   "outputs": [],
   "source": [
    "# # test chunk\n",
    "# ! rm -f ./tst/main_tst_gaus5.off\n",
    "# write_off('./tst/main_tst_gaus5.off', nmG_mesh_lst[4], faces)\n",
    "\n",
    "# ! rm -f ./tst/main_tst_dygaus5.off\n",
    "# write_off('./tst/main_tst_dygaus5.off', dymG_mesh_lst[4], faces)"
   ]
  },
  {
   "cell_type": "code",
   "execution_count": 133,
   "metadata": {},
   "outputs": [],
   "source": [
    "Sal_mat = np.zeros((s, verts.shape[0])).astype(np.float)\n",
    "Sal_ori = np.zeros((s, ori_verts.shape[0])).astype(np.float)\n",
    "for idx in range(s):\n",
    "    if idx == 0:\n",
    "        Sal_hat = RoughMeasure_Saliency(nmG_mesh_lst[idx], faces)\n",
    "    else:    \n",
    "        Sal_tmp = RoughMeasure_Saliency(nmG_mesh_lst[idx], faces)\n",
    "        Sal_tmp_dym = RoughMeasure_Saliency(dymG_mesh_lst[idx], faces) \n",
    "        Sal_hat = np.abs(Sal_tmp_dym - Sal_tmp) # Get the S_hat_i\n",
    "    Sal_mat[idx,:] = Sal_hat\n",
    "    \n",
    "    idx_mapping = simplifiedMapping(nmG_mesh_lst[idx], ori_verts)\n",
    "    Sal_ori[idx,:] = Sal_hat[:,idx_mapping].reshape(-1)\n",
    "\n",
    "Sal_out = np.log(np.sum(Sal_ori, axis=0))\n",
    "\n",
    "sio.savemat('./tst/sal.mat',{'sal':Sal_out})"
   ]
  },
  {
   "cell_type": "markdown",
   "metadata": {},
   "source": [
    "###### Alternative algorthim"
   ]
  },
  {
   "cell_type": "code",
   "execution_count": 147,
   "metadata": {},
   "outputs": [],
   "source": [
    "Sal_mat = np.zeros((s, ori_verts.shape[0])).astype(np.float)\n",
    "Sal_ori = np.zeros((s-1, ori_verts.shape[0])).astype(np.float)\n",
    "for idx in range(s):\n",
    "    if idx == 0:\n",
    "        Sal_hat = RoughMeasure_Saliency(nmG_mesh_lst[idx], faces)\n",
    "    else:    \n",
    "        Sal_tmp_dym = RoughMeasure_Saliency(dymG_mesh_lst[idx], faces) \n",
    "        Sal_hat = Sal_tmp_dym # Get the S_hat_i\n",
    "    \n",
    "    idx_mapping = simplifiedMapping(nmG_mesh_lst[idx], ori_verts)\n",
    "    Sal_mat[idx,:] = Sal_hat[:,idx_mapping].reshape(-1)\n",
    "    \n",
    "    if idx != 0:\n",
    "        Sal_ori[idx-1,:] = np.abs(Sal_mat[idx,:] - Sal_mat[idx-1,:])\n",
    "    \n",
    "Sal_out = np.log(np.sum(Sal_ori, axis=0))\n",
    "sio.savemat('./tst/sal2.mat',{'sal2':Sal_out})"
   ]
  },
  {
   "cell_type": "code",
   "execution_count": null,
   "metadata": {},
   "outputs": [],
   "source": []
  }
 ],
 "metadata": {
  "kernelspec": {
   "display_name": "Python 3",
   "language": "python",
   "name": "python3"
  },
  "language_info": {
   "codemirror_mode": {
    "name": "ipython",
    "version": 3
   },
   "file_extension": ".py",
   "mimetype": "text/x-python",
   "name": "python",
   "nbconvert_exporter": "python",
   "pygments_lexer": "ipython3",
   "version": "3.7.4"
  }
 },
 "nbformat": 4,
 "nbformat_minor": 4
}
